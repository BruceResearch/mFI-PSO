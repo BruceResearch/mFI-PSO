{
  "nbformat": 4,
  "nbformat_minor": 0,
  "metadata": {
    "colab": {
      "name": "Adversarial_Image_Display.ipynb",
      "provenance": [],
      "mount_file_id": "1BHT1YSKZtoTU_6AqXyC73mD9JnGTPtxD",
      "authorship_tag": "ABX9TyNWV0prlzxMG9DIXpzLhLhC",
      "include_colab_link": true
    },
    "kernelspec": {
      "display_name": "Python 3",
      "name": "python3"
    },
    "language_info": {
      "name": "python"
    }
  },
  "cells": [
    {
      "cell_type": "markdown",
      "metadata": {
        "id": "view-in-github",
        "colab_type": "text"
      },
      "source": [
        "<a href=\"https://colab.research.google.com/github/Qiran-Jia/Adversarial-Image-Generation-and-Training-for-Deep-Neural-Networks/blob/main/Adversarial_Image_Display.ipynb\" target=\"_parent\"><img src=\"https://colab.research.google.com/assets/colab-badge.svg\" alt=\"Open In Colab\"/></a>"
      ]
    },
    {
      "cell_type": "markdown",
      "metadata": {
        "id": "-5lkXNg-fB0_"
      },
      "source": [
        "This interactive program shows the adversarial images of CIFAR10 and Mnist generated via the method in [Adversarial Image Generation and Training for Deep Neural Networks](https://arxiv.org/pdf/2006.03243.pdf). \n",
        "\n",
        "The adversarial images for displaying are created with the max pixel perturbtion of 0.15 for every image. There are 1765 adversarial images for CIFAR10 and 1306 adversarial images for MNIST for you to view. Please simply input the index of the adversarial image that you want to see and run the code. The corresponding original images and the perturbation plot (the difference between the adversarial image and the original image) will also be displayed.\n"
      ]
    },
    {
      "cell_type": "markdown",
      "metadata": {
        "id": "3fiNfVqyMop8"
      },
      "source": [
        "Please mount to your drive first so that you can sucessfully run this file."
      ]
    },
    {
      "cell_type": "code",
      "metadata": {
        "id": "AWrSxyEJMkl0"
      },
      "source": [
        "from google.colab import drive\n",
        "drive.mount('/content/drive')"
      ],
      "execution_count": null,
      "outputs": []
    },
    {
      "cell_type": "markdown",
      "metadata": {
        "id": "lhuVC3EjzkDK"
      },
      "source": [
        "**CIFAR10**"
      ]
    },
    {
      "cell_type": "markdown",
      "metadata": {
        "id": "dPGzwduPzs9_"
      },
      "source": [
        "Please simple run the code block to load the dataset."
      ]
    },
    {
      "cell_type": "code",
      "metadata": {
        "id": "CpeqvQ5Lhb5J"
      },
      "source": [
        "import numpy as np\n",
        "x_adv = np.load('/content/drive/MyDrive/view_adversarial_images/cifar_train_adv_x.npy')\n",
        "x_adv = x_adv / 255\n",
        "x_adv = x_adv[:1764]\n",
        "x_original = np.load('/content/drive/MyDrive/view_adversarial_images/Cifar_train_image.npy').reshape(-1, 32, 32, 3) \n",
        "x_original = x_original / 255"
      ],
      "execution_count": null,
      "outputs": []
    },
    {
      "cell_type": "markdown",
      "metadata": {
        "id": "XOmwyNIDh90g"
      },
      "source": [
        "Please simple run the code block to select original images."
      ]
    },
    {
      "cell_type": "code",
      "metadata": {
        "id": "KJKxnER-h-NZ"
      },
      "source": [
        "array_pic_num_cifar_all = np.load('/content/drive/MyDrive/view_adversarial_images/Cifar_sheet(2)_situation(1)_FI_below(0.20)_pro_y_target(0.01)_array.npy')\n",
        "cut_start = 0\n",
        "cut_end = len(array_pic_num_cifar_all)\n",
        "train_adv=[]\n",
        "for i_pic in range(cut_start,cut_end,1):\n",
        "    pic_num= array_pic_num_cifar_all[i_pic][2]\n",
        "    train_adv.append(x_original[int(pic_num)])\n",
        "\n",
        "x_original_image = np.concatenate(train_adv, axis = 0).reshape(-1,32,32,3)\n",
        "x_original_image = x_original_image[:1764] \n"
      ],
      "execution_count": null,
      "outputs": []
    },
    {
      "cell_type": "markdown",
      "metadata": {
        "id": "6Qk2CNPYs6uq"
      },
      "source": [
        "Please input the index of the image that you want to view. Note the range is 0-1764."
      ]
    },
    {
      "cell_type": "code",
      "metadata": {
        "id": "Qzwbz1grs69w"
      },
      "source": [
        "pic_num = 0\n"
      ],
      "execution_count": null,
      "outputs": []
    },
    {
      "cell_type": "markdown",
      "metadata": {
        "id": "1QFAwLWRtDXk"
      },
      "source": [
        "Please simply run the code block to view the adversarial image."
      ]
    },
    {
      "cell_type": "code",
      "metadata": {
        "colab": {
          "base_uri": "https://localhost:8080/",
          "height": 258
        },
        "id": "dtTwftNStDtQ",
        "outputId": "a9c38575-45f6-431a-e9e4-7682cde949d7"
      },
      "source": [
        "import matplotlib.pyplot as plt\n",
        "x_adv_chosen = x_adv[pic_num]\n",
        "fig = plt.figure(figsize=(30,12))\n",
        "ax1 = fig.add_subplot(3,7,8)\n",
        "ax1.imshow(x_adv_chosen)\n"
      ],
      "execution_count": null,
      "outputs": [
        {
          "output_type": "execute_result",
          "data": {
            "text/plain": [
              "<matplotlib.image.AxesImage at 0x7f7dfccf5e90>"
            ]
          },
          "metadata": {
            "tags": []
          },
          "execution_count": 44
        },
        {
          "output_type": "display_data",
          "data": {
            "image/png": "[encoded data removed]",
            "text/plain": [
              "<Figure size 2160x864 with 1 Axes>"
            ]
          },
          "metadata": {
            "tags": []
          }
        }
      ]
    },
    {
      "cell_type": "markdown",
      "metadata": {
        "id": "cvayvuIwt4z3"
      },
      "source": [
        "Please simply run the code block to view the corresponding original image."
      ]
    },
    {
      "cell_type": "code",
      "metadata": {
        "colab": {
          "base_uri": "https://localhost:8080/",
          "height": 258
        },
        "id": "g3EWFzH2t4_0",
        "outputId": "bbce25c5-867f-4bc4-d161-467053da1288"
      },
      "source": [
        "x_original_chosen = x_original_image[pic_num]\n",
        "fig = plt.figure(figsize=(30,12))\n",
        "ax1 = fig.add_subplot(3,7,8)\n",
        "ax1.imshow(x_original_chosen)\n"
      ],
      "execution_count": null,
      "outputs": [
        {
          "output_type": "execute_result",
          "data": {
            "text/plain": [
              "<matplotlib.image.AxesImage at 0x7f7dfcc341d0>"
            ]
          },
          "metadata": {
            "tags": []
          },
          "execution_count": 47
        },
        {
          "output_type": "display_data",
          "data": {
            "image/png": "[encoded data removed]",
            "text/plain": [
              "<Figure size 2160x864 with 1 Axes>"
            ]
          },
          "metadata": {
            "tags": []
          }
        }
      ]
    },
    {
      "cell_type": "markdown",
      "metadata": {
        "id": "UGAxtIF41gKJ"
      },
      "source": [
        "Please simply run the code block to view the perturbation plot."
      ]
    },
    {
      "cell_type": "code",
      "metadata": {
        "colab": {
          "base_uri": "https://localhost:8080/",
          "height": 258
        },
        "id": "_8GyQ4lY1nc7",
        "outputId": "1df4453b-7d31-4ad4-b14d-b34d240e311d"
      },
      "source": [
        "perturbation = np.absolute(x_adv_chosen - x_original_chosen)\n",
        "fig = plt.figure(figsize=(30,12))\n",
        "ax1 = fig.add_subplot(3,7,8)\n",
        "ax1.imshow(perturbation)"
      ],
      "execution_count": null,
      "outputs": [
        {
          "output_type": "execute_result",
          "data": {
            "text/plain": [
              "<matplotlib.image.AxesImage at 0x7f7dfcbbd190>"
            ]
          },
          "metadata": {
            "tags": []
          },
          "execution_count": 48
        },
        {
          "output_type": "display_data",
          "data": {
            "image/png": "[encoded data removed]",
            "text/plain": [
              "<Figure size 2160x864 with 1 Axes>"
            ]
          },
          "metadata": {
            "tags": []
          }
        }
      ]
    },
    {
      "cell_type": "markdown",
      "metadata": {
        "id": "MglzYAVk2FAw"
      },
      "source": [
        "**MNIST**"
      ]
    },
    {
      "cell_type": "markdown",
      "metadata": {
        "id": "Tn8N3TM12N3b"
      },
      "source": [
        "Please simple run the code block to load the dataset."
      ]
    },
    {
      "cell_type": "code",
      "metadata": {
        "id": "Ztd6CBAX2SLZ"
      },
      "source": [
        "x_mnist_adv = np.load('/content/drive/MyDrive/view_adversarial_images/Mnist_train_adv_x.npy')\n",
        "x_mnist_adv = x_mnist_adv[:1305]\n",
        "x_mnist_original = np.load('/content/drive/MyDrive/view_adversarial_images/Mnist_train_image.npy').reshape(-1, 28, 28, 1) \n"
      ],
      "execution_count": null,
      "outputs": []
    },
    {
      "cell_type": "markdown",
      "metadata": {
        "id": "vMs7VGpqCxeR"
      },
      "source": [
        "Please simple run the code block to select original images."
      ]
    },
    {
      "cell_type": "code",
      "metadata": {
        "id": "s50_BscCCyFK"
      },
      "source": [
        "array_pic_num_mnist_all = np.load('/content/drive/MyDrive/view_adversarial_images/Mnist_sheet(2)_situation(1)_FI_below(0.20)_pro_y_target(0.00)_array.npy')\n",
        "cut_start = 0\n",
        "cut_end = len(array_pic_num_mnist_all)\n",
        "train_mnist_adv=[]\n",
        "for i_pic in range(cut_start,cut_end,1):\n",
        "    pic_num= array_pic_num_mnist_all[i_pic][2]\n",
        "    train_mnist_adv.append(x_mnist_original[int(pic_num)])\n",
        "\n",
        "x_mnist_original_image = np.concatenate(train_mnist_adv, axis = 0).reshape(-1,28,28,1)\n",
        "x_mnist_original_image = x_mnist_original_image[:1305] "
      ],
      "execution_count": null,
      "outputs": []
    },
    {
      "cell_type": "markdown",
      "metadata": {
        "id": "wfxOMMdhEGx5"
      },
      "source": [
        "Please input the index of the image that you want to view. Note the range is 0-1764."
      ]
    },
    {
      "cell_type": "code",
      "metadata": {
        "id": "zi6PfBzHEHox"
      },
      "source": [
        "pic_mnist_num = 999"
      ],
      "execution_count": null,
      "outputs": []
    },
    {
      "cell_type": "markdown",
      "metadata": {
        "id": "XiMeWmbBENJW"
      },
      "source": [
        "Please simply run the code block to view the adversarial image."
      ]
    },
    {
      "cell_type": "code",
      "metadata": {
        "id": "dcZvUzpRENwG",
        "colab": {
          "base_uri": "https://localhost:8080/",
          "height": 282
        },
        "outputId": "63aa1511-b9bf-40e3-ae88-e73c84052e97"
      },
      "source": [
        "x_mnist_adv_chosen = x_mnist_adv[pic_mnist_num]\n",
        "plt.imshow(x_mnist_adv_chosen.reshape(28,28), cmap='gray')"
      ],
      "execution_count": null,
      "outputs": [
        {
          "output_type": "execute_result",
          "data": {
            "text/plain": [
              "<matplotlib.image.AxesImage at 0x7f7dfbd739d0>"
            ]
          },
          "metadata": {
            "tags": []
          },
          "execution_count": 89
        },
        {
          "output_type": "display_data",
          "data": {
            "image/png": "[encoded data removed]",
            "text/plain": [
              "<Figure size 432x288 with 1 Axes>"
            ]
          },
          "metadata": {
            "tags": [],
            "needs_background": "light"
          }
        }
      ]
    },
    {
      "cell_type": "markdown",
      "metadata": {
        "id": "koZYHLNfJydz"
      },
      "source": [
        "Please simply run the code block to view the corresponding original image."
      ]
    },
    {
      "cell_type": "code",
      "metadata": {
        "colab": {
          "base_uri": "https://localhost:8080/",
          "height": 282
        },
        "id": "pescZVDXJ1i1",
        "outputId": "75ed6bdd-a77f-49eb-a6e4-21d62cc47ed5"
      },
      "source": [
        "x_mnist_original_chosen = x_mnist_original_image[pic_mnist_num]\n",
        "plt.imshow(x_mnist_original_chosen.reshape(28,28), cmap='gray')"
      ],
      "execution_count": null,
      "outputs": [
        {
          "output_type": "execute_result",
          "data": {
            "text/plain": [
              "<matplotlib.image.AxesImage at 0x7f7dfbc962d0>"
            ]
          },
          "metadata": {
            "tags": []
          },
          "execution_count": 90
        },
        {
          "output_type": "display_data",
          "data": {
            "image/png": "[encoded data removed]",
            "text/plain": [
              "<Figure size 432x288 with 1 Axes>"
            ]
          },
          "metadata": {
            "tags": [],
            "needs_background": "light"
          }
        }
      ]
    },
    {
      "cell_type": "markdown",
      "metadata": {
        "id": "vqjnGY8TKBLp"
      },
      "source": [
        "Please simply run the code block to view the perturbation plot."
      ]
    },
    {
      "cell_type": "code",
      "metadata": {
        "colab": {
          "base_uri": "https://localhost:8080/",
          "height": 282
        },
        "id": "ztdDEJSKKDcg",
        "outputId": "9aa0ac56-aa62-42c6-e6c9-21a253c097f9"
      },
      "source": [
        "perturbation = np.absolute(x_mnist_adv_chosen - x_mnist_original_chosen)\n",
        "plt.imshow(perturbation.reshape(28,28), cmap='gray')"
      ],
      "execution_count": null,
      "outputs": [
        {
          "output_type": "execute_result",
          "data": {
            "text/plain": [
              "<matplotlib.image.AxesImage at 0x7f7dfbc71690>"
            ]
          },
          "metadata": {
            "tags": []
          },
          "execution_count": 91
        },
        {
          "output_type": "display_data",
          "data": {
            "image/png": "[encoded data removed]",
            "text/plain": [
              "<Figure size 432x288 with 1 Axes>"
            ]
          },
          "metadata": {
            "tags": [],
            "needs_background": "light"
          }
        }
      ]
    }
  ]
}